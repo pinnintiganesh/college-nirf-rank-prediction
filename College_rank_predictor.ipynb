{
 "cells": [
  {
   "cell_type": "markdown",
   "id": "f5ff20ad",
   "metadata": {},
   "source": [
    "### Load Data"
   ]
  },
  {
   "cell_type": "code",
   "execution_count": 1,
   "id": "d84207c3",
   "metadata": {},
   "outputs": [],
   "source": [
    "import pandas as pd\n",
    "import matplotlib.pyplot as plt\n",
    "import numpy as np "
   ]
  },
  {
   "cell_type": "code",
   "execution_count": 2,
   "id": "ec7554a1",
   "metadata": {},
   "outputs": [
    {
     "data": {
      "text/html": [
       "<div>\n",
       "<style scoped>\n",
       "    .dataframe tbody tr th:only-of-type {\n",
       "        vertical-align: middle;\n",
       "    }\n",
       "\n",
       "    .dataframe tbody tr th {\n",
       "        vertical-align: top;\n",
       "    }\n",
       "\n",
       "    .dataframe thead th {\n",
       "        text-align: right;\n",
       "    }\n",
       "</style>\n",
       "<table border=\"1\" class=\"dataframe\">\n",
       "  <thead>\n",
       "    <tr style=\"text-align: right;\">\n",
       "      <th></th>\n",
       "      <th>institute_id</th>\n",
       "      <th>name</th>\n",
       "      <th>tlr</th>\n",
       "      <th>rpc</th>\n",
       "      <th>go</th>\n",
       "      <th>oi</th>\n",
       "      <th>perception</th>\n",
       "      <th>city</th>\n",
       "      <th>state</th>\n",
       "      <th>rank</th>\n",
       "    </tr>\n",
       "  </thead>\n",
       "  <tbody>\n",
       "    <tr>\n",
       "      <th>92</th>\n",
       "      <td>IR-E-C-30045</td>\n",
       "      <td>C V  Raman Global University</td>\n",
       "      <td>59.49</td>\n",
       "      <td>5.07</td>\n",
       "      <td>58.70</td>\n",
       "      <td>57.65</td>\n",
       "      <td>10.70</td>\n",
       "      <td>Bhubaneswar</td>\n",
       "      <td>Odisha</td>\n",
       "      <td>93</td>\n",
       "    </tr>\n",
       "    <tr>\n",
       "      <th>199</th>\n",
       "      <td>IR-E-U-0615</td>\n",
       "      <td>National Institute of Technology Arunachal Pra...</td>\n",
       "      <td>50.56</td>\n",
       "      <td>9.06</td>\n",
       "      <td>39.36</td>\n",
       "      <td>46.21</td>\n",
       "      <td>7.12</td>\n",
       "      <td>Itanagar</td>\n",
       "      <td>Arunachal Pradesh</td>\n",
       "      <td>200</td>\n",
       "    </tr>\n",
       "    <tr>\n",
       "      <th>14</th>\n",
       "      <td>IR-E-U-0490</td>\n",
       "      <td>Vellore Institute of Technology</td>\n",
       "      <td>56.79</td>\n",
       "      <td>64.06</td>\n",
       "      <td>63.07</td>\n",
       "      <td>58.21</td>\n",
       "      <td>46.29</td>\n",
       "      <td>Vellore</td>\n",
       "      <td>Tamil Nadu</td>\n",
       "      <td>15</td>\n",
       "    </tr>\n",
       "    <tr>\n",
       "      <th>108</th>\n",
       "      <td>IR-E-C-42054</td>\n",
       "      <td>Army Institute of Technology</td>\n",
       "      <td>54.68</td>\n",
       "      <td>2.33</td>\n",
       "      <td>64.18</td>\n",
       "      <td>62.39</td>\n",
       "      <td>6.65</td>\n",
       "      <td>Pune</td>\n",
       "      <td>Maharashtra</td>\n",
       "      <td>109</td>\n",
       "    </tr>\n",
       "    <tr>\n",
       "      <th>116</th>\n",
       "      <td>IR-E-U-0223</td>\n",
       "      <td>Jain University</td>\n",
       "      <td>49.08</td>\n",
       "      <td>23.49</td>\n",
       "      <td>46.44</td>\n",
       "      <td>53.20</td>\n",
       "      <td>1.10</td>\n",
       "      <td>Bengluru</td>\n",
       "      <td>Karnataka</td>\n",
       "      <td>117</td>\n",
       "    </tr>\n",
       "    <tr>\n",
       "      <th>135</th>\n",
       "      <td>IR-E-U-0854</td>\n",
       "      <td>KLE Technological University</td>\n",
       "      <td>56.85</td>\n",
       "      <td>8.11</td>\n",
       "      <td>48.85</td>\n",
       "      <td>49.29</td>\n",
       "      <td>1.63</td>\n",
       "      <td>Dharwad</td>\n",
       "      <td>Karnataka</td>\n",
       "      <td>136</td>\n",
       "    </tr>\n",
       "  </tbody>\n",
       "</table>\n",
       "</div>"
      ],
      "text/plain": [
       "     institute_id                                               name    tlr  \\\n",
       "92   IR-E-C-30045                       C V  Raman Global University  59.49   \n",
       "199   IR-E-U-0615  National Institute of Technology Arunachal Pra...  50.56   \n",
       "14    IR-E-U-0490                    Vellore Institute of Technology  56.79   \n",
       "108  IR-E-C-42054                       Army Institute of Technology  54.68   \n",
       "116   IR-E-U-0223                                    Jain University  49.08   \n",
       "135   IR-E-U-0854                       KLE Technological University  56.85   \n",
       "\n",
       "       rpc     go     oi  perception         city              state  rank  \n",
       "92    5.07  58.70  57.65       10.70  Bhubaneswar             Odisha    93  \n",
       "199   9.06  39.36  46.21        7.12     Itanagar  Arunachal Pradesh   200  \n",
       "14   64.06  63.07  58.21       46.29      Vellore         Tamil Nadu    15  \n",
       "108   2.33  64.18  62.39        6.65         Pune        Maharashtra   109  \n",
       "116  23.49  46.44  53.20        1.10     Bengluru          Karnataka   117  \n",
       "135   8.11  48.85  49.29        1.63      Dharwad          Karnataka   136  "
      ]
     },
     "execution_count": 2,
     "metadata": {},
     "output_type": "execute_result"
    }
   ],
   "source": [
    "df=pd.read_csv(\"./dataset/engineering.csv\")\n",
    "df.sample(6)"
   ]
  },
  {
   "cell_type": "code",
   "execution_count": 3,
   "id": "776fee25",
   "metadata": {},
   "outputs": [
    {
     "data": {
      "text/plain": [
       "(200, 10)"
      ]
     },
     "execution_count": 3,
     "metadata": {},
     "output_type": "execute_result"
    }
   ],
   "source": [
    "df.shape"
   ]
  },
  {
   "cell_type": "code",
   "execution_count": 4,
   "id": "42780ef4",
   "metadata": {},
   "outputs": [
    {
     "name": "stdout",
     "output_type": "stream",
     "text": [
      "<class 'pandas.core.frame.DataFrame'>\n",
      "RangeIndex: 200 entries, 0 to 199\n",
      "Data columns (total 10 columns):\n",
      " #   Column        Non-Null Count  Dtype  \n",
      "---  ------        --------------  -----  \n",
      " 0   institute_id  200 non-null    object \n",
      " 1   name          200 non-null    object \n",
      " 2   tlr           200 non-null    float64\n",
      " 3   rpc           200 non-null    float64\n",
      " 4   go            200 non-null    float64\n",
      " 5   oi            200 non-null    float64\n",
      " 6   perception    200 non-null    float64\n",
      " 7   city          200 non-null    object \n",
      " 8   state         200 non-null    object \n",
      " 9   rank          200 non-null    int64  \n",
      "dtypes: float64(5), int64(1), object(4)\n",
      "memory usage: 15.8+ KB\n"
     ]
    }
   ],
   "source": [
    "df.info()"
   ]
  },
  {
   "cell_type": "code",
   "execution_count": 5,
   "id": "19d1bfa2",
   "metadata": {},
   "outputs": [
    {
     "data": {
      "text/plain": [
       "institute_id    0\n",
       "name            0\n",
       "tlr             0\n",
       "rpc             0\n",
       "go              0\n",
       "oi              0\n",
       "perception      0\n",
       "city            0\n",
       "state           0\n",
       "rank            0\n",
       "dtype: int64"
      ]
     },
     "execution_count": 5,
     "metadata": {},
     "output_type": "execute_result"
    }
   ],
   "source": [
    "df.isnull().sum()"
   ]
  },
  {
   "cell_type": "code",
   "execution_count": 6,
   "id": "a1867f67",
   "metadata": {},
   "outputs": [
    {
     "data": {
      "text/html": [
       "<div>\n",
       "<style scoped>\n",
       "    .dataframe tbody tr th:only-of-type {\n",
       "        vertical-align: middle;\n",
       "    }\n",
       "\n",
       "    .dataframe tbody tr th {\n",
       "        vertical-align: top;\n",
       "    }\n",
       "\n",
       "    .dataframe thead th {\n",
       "        text-align: right;\n",
       "    }\n",
       "</style>\n",
       "<table border=\"1\" class=\"dataframe\">\n",
       "  <thead>\n",
       "    <tr style=\"text-align: right;\">\n",
       "      <th></th>\n",
       "      <th>tlr</th>\n",
       "      <th>rpc</th>\n",
       "      <th>go</th>\n",
       "      <th>oi</th>\n",
       "      <th>perception</th>\n",
       "      <th>rank</th>\n",
       "    </tr>\n",
       "  </thead>\n",
       "  <tbody>\n",
       "    <tr>\n",
       "      <th>count</th>\n",
       "      <td>200.000000</td>\n",
       "      <td>200.000000</td>\n",
       "      <td>200.00000</td>\n",
       "      <td>200.000000</td>\n",
       "      <td>200.000000</td>\n",
       "      <td>200.000000</td>\n",
       "    </tr>\n",
       "    <tr>\n",
       "      <th>mean</th>\n",
       "      <td>59.050150</td>\n",
       "      <td>20.307350</td>\n",
       "      <td>56.70360</td>\n",
       "      <td>51.873700</td>\n",
       "      <td>14.214650</td>\n",
       "      <td>100.475000</td>\n",
       "    </tr>\n",
       "    <tr>\n",
       "      <th>std</th>\n",
       "      <td>10.152778</td>\n",
       "      <td>19.937026</td>\n",
       "      <td>11.10281</td>\n",
       "      <td>6.853437</td>\n",
       "      <td>19.262625</td>\n",
       "      <td>57.866936</td>\n",
       "    </tr>\n",
       "    <tr>\n",
       "      <th>min</th>\n",
       "      <td>35.510000</td>\n",
       "      <td>0.460000</td>\n",
       "      <td>13.06000</td>\n",
       "      <td>33.800000</td>\n",
       "      <td>0.000000</td>\n",
       "      <td>1.000000</td>\n",
       "    </tr>\n",
       "    <tr>\n",
       "      <th>25%</th>\n",
       "      <td>52.535000</td>\n",
       "      <td>5.397500</td>\n",
       "      <td>50.11250</td>\n",
       "      <td>47.360000</td>\n",
       "      <td>2.557500</td>\n",
       "      <td>50.750000</td>\n",
       "    </tr>\n",
       "    <tr>\n",
       "      <th>50%</th>\n",
       "      <td>57.525000</td>\n",
       "      <td>13.350000</td>\n",
       "      <td>55.07000</td>\n",
       "      <td>51.855000</td>\n",
       "      <td>6.650000</td>\n",
       "      <td>100.500000</td>\n",
       "    </tr>\n",
       "    <tr>\n",
       "      <th>75%</th>\n",
       "      <td>64.392500</td>\n",
       "      <td>30.642500</td>\n",
       "      <td>63.09500</td>\n",
       "      <td>56.002500</td>\n",
       "      <td>17.790000</td>\n",
       "      <td>150.250000</td>\n",
       "    </tr>\n",
       "    <tr>\n",
       "      <th>max</th>\n",
       "      <td>95.420000</td>\n",
       "      <td>96.150000</td>\n",
       "      <td>89.65000</td>\n",
       "      <td>75.700000</td>\n",
       "      <td>100.000000</td>\n",
       "      <td>200.000000</td>\n",
       "    </tr>\n",
       "  </tbody>\n",
       "</table>\n",
       "</div>"
      ],
      "text/plain": [
       "              tlr         rpc         go          oi  perception        rank\n",
       "count  200.000000  200.000000  200.00000  200.000000  200.000000  200.000000\n",
       "mean    59.050150   20.307350   56.70360   51.873700   14.214650  100.475000\n",
       "std     10.152778   19.937026   11.10281    6.853437   19.262625   57.866936\n",
       "min     35.510000    0.460000   13.06000   33.800000    0.000000    1.000000\n",
       "25%     52.535000    5.397500   50.11250   47.360000    2.557500   50.750000\n",
       "50%     57.525000   13.350000   55.07000   51.855000    6.650000  100.500000\n",
       "75%     64.392500   30.642500   63.09500   56.002500   17.790000  150.250000\n",
       "max     95.420000   96.150000   89.65000   75.700000  100.000000  200.000000"
      ]
     },
     "execution_count": 6,
     "metadata": {},
     "output_type": "execute_result"
    }
   ],
   "source": [
    "df.describe()"
   ]
  },
  {
   "cell_type": "code",
   "execution_count": 7,
   "id": "d0fb7350",
   "metadata": {},
   "outputs": [
    {
     "data": {
      "text/plain": [
       "0"
      ]
     },
     "execution_count": 7,
     "metadata": {},
     "output_type": "execute_result"
    }
   ],
   "source": [
    "df.duplicated().sum()"
   ]
  },
  {
   "cell_type": "code",
   "execution_count": 8,
   "id": "e2cae2b9",
   "metadata": {},
   "outputs": [
    {
     "data": {
      "text/html": [
       "<div>\n",
       "<style scoped>\n",
       "    .dataframe tbody tr th:only-of-type {\n",
       "        vertical-align: middle;\n",
       "    }\n",
       "\n",
       "    .dataframe tbody tr th {\n",
       "        vertical-align: top;\n",
       "    }\n",
       "\n",
       "    .dataframe thead th {\n",
       "        text-align: right;\n",
       "    }\n",
       "</style>\n",
       "<table border=\"1\" class=\"dataframe\">\n",
       "  <thead>\n",
       "    <tr style=\"text-align: right;\">\n",
       "      <th></th>\n",
       "      <th>tlr</th>\n",
       "      <th>rpc</th>\n",
       "      <th>go</th>\n",
       "      <th>oi</th>\n",
       "      <th>perception</th>\n",
       "      <th>rank</th>\n",
       "    </tr>\n",
       "  </thead>\n",
       "  <tbody>\n",
       "    <tr>\n",
       "      <th>60</th>\n",
       "      <td>66.27</td>\n",
       "      <td>20.64</td>\n",
       "      <td>54.64</td>\n",
       "      <td>59.35</td>\n",
       "      <td>7.59</td>\n",
       "      <td>61</td>\n",
       "    </tr>\n",
       "    <tr>\n",
       "      <th>23</th>\n",
       "      <td>83.76</td>\n",
       "      <td>34.55</td>\n",
       "      <td>55.15</td>\n",
       "      <td>57.90</td>\n",
       "      <td>38.26</td>\n",
       "      <td>24</td>\n",
       "    </tr>\n",
       "    <tr>\n",
       "      <th>121</th>\n",
       "      <td>55.46</td>\n",
       "      <td>15.73</td>\n",
       "      <td>43.96</td>\n",
       "      <td>40.61</td>\n",
       "      <td>12.79</td>\n",
       "      <td>122</td>\n",
       "    </tr>\n",
       "    <tr>\n",
       "      <th>48</th>\n",
       "      <td>69.35</td>\n",
       "      <td>19.73</td>\n",
       "      <td>52.14</td>\n",
       "      <td>48.69</td>\n",
       "      <td>51.77</td>\n",
       "      <td>49</td>\n",
       "    </tr>\n",
       "    <tr>\n",
       "      <th>56</th>\n",
       "      <td>71.72</td>\n",
       "      <td>29.24</td>\n",
       "      <td>40.88</td>\n",
       "      <td>53.90</td>\n",
       "      <td>11.13</td>\n",
       "      <td>57</td>\n",
       "    </tr>\n",
       "    <tr>\n",
       "      <th>68</th>\n",
       "      <td>65.32</td>\n",
       "      <td>10.04</td>\n",
       "      <td>63.72</td>\n",
       "      <td>54.35</td>\n",
       "      <td>5.69</td>\n",
       "      <td>69</td>\n",
       "    </tr>\n",
       "  </tbody>\n",
       "</table>\n",
       "</div>"
      ],
      "text/plain": [
       "       tlr    rpc     go     oi  perception  rank\n",
       "60   66.27  20.64  54.64  59.35        7.59    61\n",
       "23   83.76  34.55  55.15  57.90       38.26    24\n",
       "121  55.46  15.73  43.96  40.61       12.79   122\n",
       "48   69.35  19.73  52.14  48.69       51.77    49\n",
       "56   71.72  29.24  40.88  53.90       11.13    57\n",
       "68   65.32  10.04  63.72  54.35        5.69    69"
      ]
     },
     "execution_count": 8,
     "metadata": {},
     "output_type": "execute_result"
    }
   ],
   "source": [
    "clean_df=df.drop([\"institute_id\",\"name\",\"city\",\"state\"],axis=True)\n",
    "clean_df.sample(6)"
   ]
  },
  {
   "cell_type": "markdown",
   "id": "32a9f6a6",
   "metadata": {},
   "source": [
    "### Split Data"
   ]
  },
  {
   "cell_type": "code",
   "execution_count": 9,
   "id": "91737acd",
   "metadata": {},
   "outputs": [
    {
     "name": "stdout",
     "output_type": "stream",
     "text": [
      "Shape of X =  (200, 5)\n",
      "Shape of y =  (200,)\n"
     ]
    }
   ],
   "source": [
    "X = clean_df.drop('rank', axis=1)\n",
    "y = clean_df['rank']\n",
    "\n",
    "print('Shape of X = ', X.shape)\n",
    "print('Shape of y = ', y.shape)"
   ]
  },
  {
   "cell_type": "code",
   "execution_count": 10,
   "id": "f34aa097",
   "metadata": {},
   "outputs": [
    {
     "name": "stdout",
     "output_type": "stream",
     "text": [
      "Shape of X_train =  (160, 5)\n",
      "Shape of y_train =  (160,)\n",
      "Shape of X_test =  (40, 5)\n",
      "Shape of y_test =  (40,)\n"
     ]
    }
   ],
   "source": [
    "from sklearn.model_selection import train_test_split\n",
    "X_train, X_test, y_train, y_test = train_test_split(X, y, test_size=0.2, random_state=51)\n",
    "\n",
    "print('Shape of X_train = ', X_train.shape)\n",
    "print('Shape of y_train = ', y_train.shape)\n",
    "print('Shape of X_test = ', X_test.shape)\n",
    "print('Shape of y_test = ', y_test.shape)"
   ]
  },
  {
   "cell_type": "markdown",
   "id": "1bbbbd93",
   "metadata": {},
   "source": [
    "### Model Traning with Random Forest Regressor"
   ]
  },
  {
   "cell_type": "code",
   "execution_count": 16,
   "id": "06dba083",
   "metadata": {},
   "outputs": [],
   "source": [
    "from sklearn.ensemble import RandomForestRegressor"
   ]
  },
  {
   "cell_type": "code",
   "execution_count": 17,
   "id": "19af1029",
   "metadata": {},
   "outputs": [
    {
     "data": {
      "text/html": [
       "<style>#sk-container-id-1 {\n",
       "  /* Definition of color scheme common for light and dark mode */\n",
       "  --sklearn-color-text: black;\n",
       "  --sklearn-color-line: gray;\n",
       "  /* Definition of color scheme for unfitted estimators */\n",
       "  --sklearn-color-unfitted-level-0: #fff5e6;\n",
       "  --sklearn-color-unfitted-level-1: #f6e4d2;\n",
       "  --sklearn-color-unfitted-level-2: #ffe0b3;\n",
       "  --sklearn-color-unfitted-level-3: chocolate;\n",
       "  /* Definition of color scheme for fitted estimators */\n",
       "  --sklearn-color-fitted-level-0: #f0f8ff;\n",
       "  --sklearn-color-fitted-level-1: #d4ebff;\n",
       "  --sklearn-color-fitted-level-2: #b3dbfd;\n",
       "  --sklearn-color-fitted-level-3: cornflowerblue;\n",
       "\n",
       "  /* Specific color for light theme */\n",
       "  --sklearn-color-text-on-default-background: var(--sg-text-color, var(--theme-code-foreground, var(--jp-content-font-color1, black)));\n",
       "  --sklearn-color-background: var(--sg-background-color, var(--theme-background, var(--jp-layout-color0, white)));\n",
       "  --sklearn-color-border-box: var(--sg-text-color, var(--theme-code-foreground, var(--jp-content-font-color1, black)));\n",
       "  --sklearn-color-icon: #696969;\n",
       "\n",
       "  @media (prefers-color-scheme: dark) {\n",
       "    /* Redefinition of color scheme for dark theme */\n",
       "    --sklearn-color-text-on-default-background: var(--sg-text-color, var(--theme-code-foreground, var(--jp-content-font-color1, white)));\n",
       "    --sklearn-color-background: var(--sg-background-color, var(--theme-background, var(--jp-layout-color0, #111)));\n",
       "    --sklearn-color-border-box: var(--sg-text-color, var(--theme-code-foreground, var(--jp-content-font-color1, white)));\n",
       "    --sklearn-color-icon: #878787;\n",
       "  }\n",
       "}\n",
       "\n",
       "#sk-container-id-1 {\n",
       "  color: var(--sklearn-color-text);\n",
       "}\n",
       "\n",
       "#sk-container-id-1 pre {\n",
       "  padding: 0;\n",
       "}\n",
       "\n",
       "#sk-container-id-1 input.sk-hidden--visually {\n",
       "  border: 0;\n",
       "  clip: rect(1px 1px 1px 1px);\n",
       "  clip: rect(1px, 1px, 1px, 1px);\n",
       "  height: 1px;\n",
       "  margin: -1px;\n",
       "  overflow: hidden;\n",
       "  padding: 0;\n",
       "  position: absolute;\n",
       "  width: 1px;\n",
       "}\n",
       "\n",
       "#sk-container-id-1 div.sk-dashed-wrapped {\n",
       "  border: 1px dashed var(--sklearn-color-line);\n",
       "  margin: 0 0.4em 0.5em 0.4em;\n",
       "  box-sizing: border-box;\n",
       "  padding-bottom: 0.4em;\n",
       "  background-color: var(--sklearn-color-background);\n",
       "}\n",
       "\n",
       "#sk-container-id-1 div.sk-container {\n",
       "  /* jupyter's `normalize.less` sets `[hidden] { display: none; }`\n",
       "     but bootstrap.min.css set `[hidden] { display: none !important; }`\n",
       "     so we also need the `!important` here to be able to override the\n",
       "     default hidden behavior on the sphinx rendered scikit-learn.org.\n",
       "     See: https://github.com/scikit-learn/scikit-learn/issues/21755 */\n",
       "  display: inline-block !important;\n",
       "  position: relative;\n",
       "}\n",
       "\n",
       "#sk-container-id-1 div.sk-text-repr-fallback {\n",
       "  display: none;\n",
       "}\n",
       "\n",
       "div.sk-parallel-item,\n",
       "div.sk-serial,\n",
       "div.sk-item {\n",
       "  /* draw centered vertical line to link estimators */\n",
       "  background-image: linear-gradient(var(--sklearn-color-text-on-default-background), var(--sklearn-color-text-on-default-background));\n",
       "  background-size: 2px 100%;\n",
       "  background-repeat: no-repeat;\n",
       "  background-position: center center;\n",
       "}\n",
       "\n",
       "/* Parallel-specific style estimator block */\n",
       "\n",
       "#sk-container-id-1 div.sk-parallel-item::after {\n",
       "  content: \"\";\n",
       "  width: 100%;\n",
       "  border-bottom: 2px solid var(--sklearn-color-text-on-default-background);\n",
       "  flex-grow: 1;\n",
       "}\n",
       "\n",
       "#sk-container-id-1 div.sk-parallel {\n",
       "  display: flex;\n",
       "  align-items: stretch;\n",
       "  justify-content: center;\n",
       "  background-color: var(--sklearn-color-background);\n",
       "  position: relative;\n",
       "}\n",
       "\n",
       "#sk-container-id-1 div.sk-parallel-item {\n",
       "  display: flex;\n",
       "  flex-direction: column;\n",
       "}\n",
       "\n",
       "#sk-container-id-1 div.sk-parallel-item:first-child::after {\n",
       "  align-self: flex-end;\n",
       "  width: 50%;\n",
       "}\n",
       "\n",
       "#sk-container-id-1 div.sk-parallel-item:last-child::after {\n",
       "  align-self: flex-start;\n",
       "  width: 50%;\n",
       "}\n",
       "\n",
       "#sk-container-id-1 div.sk-parallel-item:only-child::after {\n",
       "  width: 0;\n",
       "}\n",
       "\n",
       "/* Serial-specific style estimator block */\n",
       "\n",
       "#sk-container-id-1 div.sk-serial {\n",
       "  display: flex;\n",
       "  flex-direction: column;\n",
       "  align-items: center;\n",
       "  background-color: var(--sklearn-color-background);\n",
       "  padding-right: 1em;\n",
       "  padding-left: 1em;\n",
       "}\n",
       "\n",
       "\n",
       "/* Toggleable style: style used for estimator/Pipeline/ColumnTransformer box that is\n",
       "clickable and can be expanded/collapsed.\n",
       "- Pipeline and ColumnTransformer use this feature and define the default style\n",
       "- Estimators will overwrite some part of the style using the `sk-estimator` class\n",
       "*/\n",
       "\n",
       "/* Pipeline and ColumnTransformer style (default) */\n",
       "\n",
       "#sk-container-id-1 div.sk-toggleable {\n",
       "  /* Default theme specific background. It is overwritten whether we have a\n",
       "  specific estimator or a Pipeline/ColumnTransformer */\n",
       "  background-color: var(--sklearn-color-background);\n",
       "}\n",
       "\n",
       "/* Toggleable label */\n",
       "#sk-container-id-1 label.sk-toggleable__label {\n",
       "  cursor: pointer;\n",
       "  display: block;\n",
       "  width: 100%;\n",
       "  margin-bottom: 0;\n",
       "  padding: 0.5em;\n",
       "  box-sizing: border-box;\n",
       "  text-align: center;\n",
       "}\n",
       "\n",
       "#sk-container-id-1 label.sk-toggleable__label-arrow:before {\n",
       "  /* Arrow on the left of the label */\n",
       "  content: \"▸\";\n",
       "  float: left;\n",
       "  margin-right: 0.25em;\n",
       "  color: var(--sklearn-color-icon);\n",
       "}\n",
       "\n",
       "#sk-container-id-1 label.sk-toggleable__label-arrow:hover:before {\n",
       "  color: var(--sklearn-color-text);\n",
       "}\n",
       "\n",
       "/* Toggleable content - dropdown */\n",
       "\n",
       "#sk-container-id-1 div.sk-toggleable__content {\n",
       "  max-height: 0;\n",
       "  max-width: 0;\n",
       "  overflow: hidden;\n",
       "  text-align: left;\n",
       "  /* unfitted */\n",
       "  background-color: var(--sklearn-color-unfitted-level-0);\n",
       "}\n",
       "\n",
       "#sk-container-id-1 div.sk-toggleable__content.fitted {\n",
       "  /* fitted */\n",
       "  background-color: var(--sklearn-color-fitted-level-0);\n",
       "}\n",
       "\n",
       "#sk-container-id-1 div.sk-toggleable__content pre {\n",
       "  margin: 0.2em;\n",
       "  border-radius: 0.25em;\n",
       "  color: var(--sklearn-color-text);\n",
       "  /* unfitted */\n",
       "  background-color: var(--sklearn-color-unfitted-level-0);\n",
       "}\n",
       "\n",
       "#sk-container-id-1 div.sk-toggleable__content.fitted pre {\n",
       "  /* unfitted */\n",
       "  background-color: var(--sklearn-color-fitted-level-0);\n",
       "}\n",
       "\n",
       "#sk-container-id-1 input.sk-toggleable__control:checked~div.sk-toggleable__content {\n",
       "  /* Expand drop-down */\n",
       "  max-height: 200px;\n",
       "  max-width: 100%;\n",
       "  overflow: auto;\n",
       "}\n",
       "\n",
       "#sk-container-id-1 input.sk-toggleable__control:checked~label.sk-toggleable__label-arrow:before {\n",
       "  content: \"▾\";\n",
       "}\n",
       "\n",
       "/* Pipeline/ColumnTransformer-specific style */\n",
       "\n",
       "#sk-container-id-1 div.sk-label input.sk-toggleable__control:checked~label.sk-toggleable__label {\n",
       "  color: var(--sklearn-color-text);\n",
       "  background-color: var(--sklearn-color-unfitted-level-2);\n",
       "}\n",
       "\n",
       "#sk-container-id-1 div.sk-label.fitted input.sk-toggleable__control:checked~label.sk-toggleable__label {\n",
       "  background-color: var(--sklearn-color-fitted-level-2);\n",
       "}\n",
       "\n",
       "/* Estimator-specific style */\n",
       "\n",
       "/* Colorize estimator box */\n",
       "#sk-container-id-1 div.sk-estimator input.sk-toggleable__control:checked~label.sk-toggleable__label {\n",
       "  /* unfitted */\n",
       "  background-color: var(--sklearn-color-unfitted-level-2);\n",
       "}\n",
       "\n",
       "#sk-container-id-1 div.sk-estimator.fitted input.sk-toggleable__control:checked~label.sk-toggleable__label {\n",
       "  /* fitted */\n",
       "  background-color: var(--sklearn-color-fitted-level-2);\n",
       "}\n",
       "\n",
       "#sk-container-id-1 div.sk-label label.sk-toggleable__label,\n",
       "#sk-container-id-1 div.sk-label label {\n",
       "  /* The background is the default theme color */\n",
       "  color: var(--sklearn-color-text-on-default-background);\n",
       "}\n",
       "\n",
       "/* On hover, darken the color of the background */\n",
       "#sk-container-id-1 div.sk-label:hover label.sk-toggleable__label {\n",
       "  color: var(--sklearn-color-text);\n",
       "  background-color: var(--sklearn-color-unfitted-level-2);\n",
       "}\n",
       "\n",
       "/* Label box, darken color on hover, fitted */\n",
       "#sk-container-id-1 div.sk-label.fitted:hover label.sk-toggleable__label.fitted {\n",
       "  color: var(--sklearn-color-text);\n",
       "  background-color: var(--sklearn-color-fitted-level-2);\n",
       "}\n",
       "\n",
       "/* Estimator label */\n",
       "\n",
       "#sk-container-id-1 div.sk-label label {\n",
       "  font-family: monospace;\n",
       "  font-weight: bold;\n",
       "  display: inline-block;\n",
       "  line-height: 1.2em;\n",
       "}\n",
       "\n",
       "#sk-container-id-1 div.sk-label-container {\n",
       "  text-align: center;\n",
       "}\n",
       "\n",
       "/* Estimator-specific */\n",
       "#sk-container-id-1 div.sk-estimator {\n",
       "  font-family: monospace;\n",
       "  border: 1px dotted var(--sklearn-color-border-box);\n",
       "  border-radius: 0.25em;\n",
       "  box-sizing: border-box;\n",
       "  margin-bottom: 0.5em;\n",
       "  /* unfitted */\n",
       "  background-color: var(--sklearn-color-unfitted-level-0);\n",
       "}\n",
       "\n",
       "#sk-container-id-1 div.sk-estimator.fitted {\n",
       "  /* fitted */\n",
       "  background-color: var(--sklearn-color-fitted-level-0);\n",
       "}\n",
       "\n",
       "/* on hover */\n",
       "#sk-container-id-1 div.sk-estimator:hover {\n",
       "  /* unfitted */\n",
       "  background-color: var(--sklearn-color-unfitted-level-2);\n",
       "}\n",
       "\n",
       "#sk-container-id-1 div.sk-estimator.fitted:hover {\n",
       "  /* fitted */\n",
       "  background-color: var(--sklearn-color-fitted-level-2);\n",
       "}\n",
       "\n",
       "/* Specification for estimator info (e.g. \"i\" and \"?\") */\n",
       "\n",
       "/* Common style for \"i\" and \"?\" */\n",
       "\n",
       ".sk-estimator-doc-link,\n",
       "a:link.sk-estimator-doc-link,\n",
       "a:visited.sk-estimator-doc-link {\n",
       "  float: right;\n",
       "  font-size: smaller;\n",
       "  line-height: 1em;\n",
       "  font-family: monospace;\n",
       "  background-color: var(--sklearn-color-background);\n",
       "  border-radius: 1em;\n",
       "  height: 1em;\n",
       "  width: 1em;\n",
       "  text-decoration: none !important;\n",
       "  margin-left: 1ex;\n",
       "  /* unfitted */\n",
       "  border: var(--sklearn-color-unfitted-level-1) 1pt solid;\n",
       "  color: var(--sklearn-color-unfitted-level-1);\n",
       "}\n",
       "\n",
       ".sk-estimator-doc-link.fitted,\n",
       "a:link.sk-estimator-doc-link.fitted,\n",
       "a:visited.sk-estimator-doc-link.fitted {\n",
       "  /* fitted */\n",
       "  border: var(--sklearn-color-fitted-level-1) 1pt solid;\n",
       "  color: var(--sklearn-color-fitted-level-1);\n",
       "}\n",
       "\n",
       "/* On hover */\n",
       "div.sk-estimator:hover .sk-estimator-doc-link:hover,\n",
       ".sk-estimator-doc-link:hover,\n",
       "div.sk-label-container:hover .sk-estimator-doc-link:hover,\n",
       ".sk-estimator-doc-link:hover {\n",
       "  /* unfitted */\n",
       "  background-color: var(--sklearn-color-unfitted-level-3);\n",
       "  color: var(--sklearn-color-background);\n",
       "  text-decoration: none;\n",
       "}\n",
       "\n",
       "div.sk-estimator.fitted:hover .sk-estimator-doc-link.fitted:hover,\n",
       ".sk-estimator-doc-link.fitted:hover,\n",
       "div.sk-label-container:hover .sk-estimator-doc-link.fitted:hover,\n",
       ".sk-estimator-doc-link.fitted:hover {\n",
       "  /* fitted */\n",
       "  background-color: var(--sklearn-color-fitted-level-3);\n",
       "  color: var(--sklearn-color-background);\n",
       "  text-decoration: none;\n",
       "}\n",
       "\n",
       "/* Span, style for the box shown on hovering the info icon */\n",
       ".sk-estimator-doc-link span {\n",
       "  display: none;\n",
       "  z-index: 9999;\n",
       "  position: relative;\n",
       "  font-weight: normal;\n",
       "  right: .2ex;\n",
       "  padding: .5ex;\n",
       "  margin: .5ex;\n",
       "  width: min-content;\n",
       "  min-width: 20ex;\n",
       "  max-width: 50ex;\n",
       "  color: var(--sklearn-color-text);\n",
       "  box-shadow: 2pt 2pt 4pt #999;\n",
       "  /* unfitted */\n",
       "  background: var(--sklearn-color-unfitted-level-0);\n",
       "  border: .5pt solid var(--sklearn-color-unfitted-level-3);\n",
       "}\n",
       "\n",
       ".sk-estimator-doc-link.fitted span {\n",
       "  /* fitted */\n",
       "  background: var(--sklearn-color-fitted-level-0);\n",
       "  border: var(--sklearn-color-fitted-level-3);\n",
       "}\n",
       "\n",
       ".sk-estimator-doc-link:hover span {\n",
       "  display: block;\n",
       "}\n",
       "\n",
       "/* \"?\"-specific style due to the `<a>` HTML tag */\n",
       "\n",
       "#sk-container-id-1 a.estimator_doc_link {\n",
       "  float: right;\n",
       "  font-size: 1rem;\n",
       "  line-height: 1em;\n",
       "  font-family: monospace;\n",
       "  background-color: var(--sklearn-color-background);\n",
       "  border-radius: 1rem;\n",
       "  height: 1rem;\n",
       "  width: 1rem;\n",
       "  text-decoration: none;\n",
       "  /* unfitted */\n",
       "  color: var(--sklearn-color-unfitted-level-1);\n",
       "  border: var(--sklearn-color-unfitted-level-1) 1pt solid;\n",
       "}\n",
       "\n",
       "#sk-container-id-1 a.estimator_doc_link.fitted {\n",
       "  /* fitted */\n",
       "  border: var(--sklearn-color-fitted-level-1) 1pt solid;\n",
       "  color: var(--sklearn-color-fitted-level-1);\n",
       "}\n",
       "\n",
       "/* On hover */\n",
       "#sk-container-id-1 a.estimator_doc_link:hover {\n",
       "  /* unfitted */\n",
       "  background-color: var(--sklearn-color-unfitted-level-3);\n",
       "  color: var(--sklearn-color-background);\n",
       "  text-decoration: none;\n",
       "}\n",
       "\n",
       "#sk-container-id-1 a.estimator_doc_link.fitted:hover {\n",
       "  /* fitted */\n",
       "  background-color: var(--sklearn-color-fitted-level-3);\n",
       "}\n",
       "</style><div id=\"sk-container-id-1\" class=\"sk-top-container\"><div class=\"sk-text-repr-fallback\"><pre>RandomForestRegressor()</pre><b>In a Jupyter environment, please rerun this cell to show the HTML representation or trust the notebook. <br />On GitHub, the HTML representation is unable to render, please try loading this page with nbviewer.org.</b></div><div class=\"sk-container\" hidden><div class=\"sk-item\"><div class=\"sk-estimator fitted sk-toggleable\"><input class=\"sk-toggleable__control sk-hidden--visually\" id=\"sk-estimator-id-1\" type=\"checkbox\" checked><label for=\"sk-estimator-id-1\" class=\"sk-toggleable__label fitted sk-toggleable__label-arrow fitted\">&nbsp;&nbsp;RandomForestRegressor<a class=\"sk-estimator-doc-link fitted\" rel=\"noreferrer\" target=\"_blank\" href=\"https://scikit-learn.org/1.4/modules/generated/sklearn.ensemble.RandomForestRegressor.html\">?<span>Documentation for RandomForestRegressor</span></a><span class=\"sk-estimator-doc-link fitted\">i<span>Fitted</span></span></label><div class=\"sk-toggleable__content fitted\"><pre>RandomForestRegressor()</pre></div> </div></div></div></div>"
      ],
      "text/plain": [
       "RandomForestRegressor()"
      ]
     },
     "execution_count": 17,
     "metadata": {},
     "output_type": "execute_result"
    }
   ],
   "source": [
    "regressorRFR = RandomForestRegressor(n_estimators=100, criterion='squared_error')\n",
    "regressorRFR.fit(X_train, y_train)"
   ]
  },
  {
   "cell_type": "code",
   "execution_count": 18,
   "id": "13c85f99",
   "metadata": {},
   "outputs": [
    {
     "data": {
      "text/plain": [
       "0.9395207649409224"
      ]
     },
     "execution_count": 18,
     "metadata": {},
     "output_type": "execute_result"
    }
   ],
   "source": [
    "regressorRFR.score(X_test, y_test)"
   ]
  },
  {
   "cell_type": "code",
   "execution_count": 19,
   "id": "dce1a31c",
   "metadata": {},
   "outputs": [],
   "source": [
    "y_pred2=regressorRFR.predict(X_test)"
   ]
  },
  {
   "cell_type": "code",
   "execution_count": 20,
   "id": "41d09603",
   "metadata": {},
   "outputs": [
    {
     "name": "stdout",
     "output_type": "stream",
     "text": [
      "MSE =  211.57507500000003\n",
      "RMSE =  14.54562047490584\n"
     ]
    }
   ],
   "source": [
    "#first finding mean square error using mean_squared_error class\n",
    "from sklearn.metrics import mean_squared_error,mean_absolute_error,r2_score\n",
    "\n",
    "mse = mean_squared_error(y_test, y_pred2)\n",
    "#finding Root mean square error using pandas\n",
    "rmse = np.sqrt(mse)\n",
    "\n",
    "print('MSE = ', mse)\n",
    "print('RMSE = ', rmse)"
   ]
  },
  {
   "cell_type": "code",
   "execution_count": 21,
   "id": "a3a287fb",
   "metadata": {},
   "outputs": [
    {
     "data": {
      "text/plain": [
       "0.9231622993919453"
      ]
     },
     "execution_count": 21,
     "metadata": {},
     "output_type": "execute_result"
    }
   ],
   "source": [
    "# cross validation using cross_val_score\n",
    "from sklearn.model_selection import cross_val_score\n",
    "cross_val_score(regressorRFR, X_train, y_train, cv=5, ).mean()"
   ]
  },
  {
   "cell_type": "code",
   "execution_count": 22,
   "id": "6e49c043",
   "metadata": {},
   "outputs": [
    {
     "name": "stderr",
     "output_type": "stream",
     "text": [
      "/Library/Frameworks/Python.framework/Versions/3.11/lib/python3.11/site-packages/sklearn/base.py:493: UserWarning: X does not have valid feature names, but RandomForestRegressor was fitted with feature names\n",
      "  warnings.warn(\n"
     ]
    },
    {
     "data": {
      "text/plain": [
       "121"
      ]
     },
     "execution_count": 22,
     "metadata": {},
     "output_type": "execute_result"
    }
   ],
   "source": [
    "int(regressorRFR.predict([X_test.iloc[18, :]])[0].round())"
   ]
  },
  {
   "cell_type": "code",
   "execution_count": 23,
   "id": "4eede694",
   "metadata": {},
   "outputs": [
    {
     "data": {
      "text/plain": [
       "129"
      ]
     },
     "execution_count": 23,
     "metadata": {},
     "output_type": "execute_result"
    }
   ],
   "source": [
    "y_test.iloc[18]"
   ]
  },
  {
   "attachments": {},
   "cell_type": "markdown",
   "id": "c3c00220",
   "metadata": {},
   "source": [
    "### Save the Model"
   ]
  },
  {
   "cell_type": "code",
   "execution_count": 24,
   "id": "d66061dd",
   "metadata": {},
   "outputs": [
    {
     "data": {
      "text/plain": [
       "['college_rank_predictor.pkl']"
      ]
     },
     "execution_count": 24,
     "metadata": {},
     "output_type": "execute_result"
    }
   ],
   "source": [
    "import joblib\n",
    "joblib.dump(regressorRFR, \"college_rank_predictor.pkl\")"
   ]
  },
  {
   "cell_type": "code",
   "execution_count": 25,
   "id": "2d4f519c",
   "metadata": {},
   "outputs": [],
   "source": [
    "model = joblib.load(\"college_rank_predictor.pkl\")"
   ]
  },
  {
   "cell_type": "code",
   "execution_count": 26,
   "id": "f7f935d8",
   "metadata": {},
   "outputs": [
    {
     "name": "stderr",
     "output_type": "stream",
     "text": [
      "/Library/Frameworks/Python.framework/Versions/3.11/lib/python3.11/site-packages/sklearn/base.py:493: UserWarning: X does not have valid feature names, but RandomForestRegressor was fitted with feature names\n",
      "  warnings.warn(\n"
     ]
    },
    {
     "data": {
      "text/plain": [
       "120.88"
      ]
     },
     "execution_count": 26,
     "metadata": {},
     "output_type": "execute_result"
    }
   ],
   "source": [
    "model.predict([X_test.iloc[18, :]])[0]"
   ]
  },
  {
   "cell_type": "code",
   "execution_count": 27,
   "id": "52e3519d",
   "metadata": {},
   "outputs": [
    {
     "name": "stdout",
     "output_type": "stream",
     "text": [
      "rpc: 0.5484356819297906\n",
      "perception: 0.1983665690571723\n",
      "tlr: 0.15441680186748888\n",
      "go: 0.07497986007749402\n",
      "oi: 0.023801087068054137\n"
     ]
    }
   ],
   "source": [
    "feature_importances = model.feature_importances_\n",
    "feature_names = X.columns\n",
    "\n",
    "# Combine feature names with their importance scores\n",
    "feature_importance = dict(zip(feature_names, feature_importances))\n",
    "\n",
    "# Sort features based on importance\n",
    "sorted_feature_importance = sorted(feature_importance.items(), key=lambda x: x[1], reverse=True)\n",
    "\n",
    "# Print the sorted feature importance\n",
    "for feature, importance in sorted_feature_importance:\n",
    "    print(f'{feature}: {importance}')\n"
   ]
  },
  {
   "cell_type": "code",
   "execution_count": 28,
   "id": "15081222",
   "metadata": {},
   "outputs": [
    {
     "name": "stdout",
     "output_type": "stream",
     "text": [
      "Combined DataFrame has been saved to combined_data.csv\n",
      "Index(['Institute Id', 'Institute Name', 'City', 'State', 'Score', 'Rank',\n",
      "       'TLR', 'RPC', 'GO', 'OI', 'Perception', 'year'],\n",
      "      dtype='object')\n"
     ]
    },
    {
     "data": {
      "text/html": [
       "<div>\n",
       "<style scoped>\n",
       "    .dataframe tbody tr th:only-of-type {\n",
       "        vertical-align: middle;\n",
       "    }\n",
       "\n",
       "    .dataframe tbody tr th {\n",
       "        vertical-align: top;\n",
       "    }\n",
       "\n",
       "    .dataframe thead th {\n",
       "        text-align: right;\n",
       "    }\n",
       "</style>\n",
       "<table border=\"1\" class=\"dataframe\">\n",
       "  <thead>\n",
       "    <tr style=\"text-align: right;\">\n",
       "      <th></th>\n",
       "      <th>Rank</th>\n",
       "      <th>TLR</th>\n",
       "      <th>RPC</th>\n",
       "      <th>GO</th>\n",
       "      <th>OI</th>\n",
       "      <th>Perception</th>\n",
       "      <th>year</th>\n",
       "    </tr>\n",
       "  </thead>\n",
       "  <tbody>\n",
       "    <tr>\n",
       "      <th>831</th>\n",
       "      <td>132</td>\n",
       "      <td>59.95</td>\n",
       "      <td>6.78</td>\n",
       "      <td>52.91</td>\n",
       "      <td>50.28</td>\n",
       "      <td>7.45</td>\n",
       "      <td>7</td>\n",
       "    </tr>\n",
       "    <tr>\n",
       "      <th>241</th>\n",
       "      <td>42</td>\n",
       "      <td>72.70</td>\n",
       "      <td>27.91</td>\n",
       "      <td>55.73</td>\n",
       "      <td>43.77</td>\n",
       "      <td>6.89</td>\n",
       "      <td>4</td>\n",
       "    </tr>\n",
       "    <tr>\n",
       "      <th>52</th>\n",
       "      <td>52</td>\n",
       "      <td>57.40</td>\n",
       "      <td>58.47</td>\n",
       "      <td>75.03</td>\n",
       "      <td>66.24</td>\n",
       "      <td>32.00</td>\n",
       "      <td>2</td>\n",
       "    </tr>\n",
       "    <tr>\n",
       "      <th>819</th>\n",
       "      <td>120</td>\n",
       "      <td>63.62</td>\n",
       "      <td>32.28</td>\n",
       "      <td>16.04</td>\n",
       "      <td>46.24</td>\n",
       "      <td>5.55</td>\n",
       "      <td>7</td>\n",
       "    </tr>\n",
       "    <tr>\n",
       "      <th>278</th>\n",
       "      <td>79</td>\n",
       "      <td>63.79</td>\n",
       "      <td>11.75</td>\n",
       "      <td>46.73</td>\n",
       "      <td>44.42</td>\n",
       "      <td>11.20</td>\n",
       "      <td>4</td>\n",
       "    </tr>\n",
       "    <tr>\n",
       "      <th>772</th>\n",
       "      <td>73</td>\n",
       "      <td>64.87</td>\n",
       "      <td>9.13</td>\n",
       "      <td>56.91</td>\n",
       "      <td>53.01</td>\n",
       "      <td>31.01</td>\n",
       "      <td>7</td>\n",
       "    </tr>\n",
       "  </tbody>\n",
       "</table>\n",
       "</div>"
      ],
      "text/plain": [
       "     Rank    TLR    RPC     GO     OI  Perception  year\n",
       "831   132  59.95   6.78  52.91  50.28        7.45     7\n",
       "241    42  72.70  27.91  55.73  43.77        6.89     4\n",
       "52     52  57.40  58.47  75.03  66.24       32.00     2\n",
       "819   120  63.62  32.28  16.04  46.24        5.55     7\n",
       "278    79  63.79  11.75  46.73  44.42       11.20     4\n",
       "772    73  64.87   9.13  56.91  53.01       31.01     7"
      ]
     },
     "execution_count": 28,
     "metadata": {},
     "output_type": "execute_result"
    }
   ],
   "source": [
    "# Assuming df and df_new are your DataFrames for different years\n",
    "df_2016=pd.read_csv(\"./db/2016/EngineeringRanking_2016.csv\")\n",
    "df_2017=pd.read_csv(\"./db/2017/EngineeringRanking_2017.csv\")\n",
    "df_2018=pd.read_csv(\"./db/2018/EngineeringRanking_2018.csv\")\n",
    "df_2019=pd.read_csv(\"./db/2019/EngineeringRanking_2019.csv\")\n",
    "df_2020=pd.read_csv(\"./db/2020/EngineeringRanking_2020.csv\")\n",
    "df_2021=pd.read_csv(\"./db/2021/EngineeringRanking_2021.csv\")\n",
    "\n",
    "\n",
    "df_2016['year'] = 1\n",
    "df_2016['year'] = 2\n",
    "df_2017['year'] = 3\n",
    "df_2018['year'] = 4\n",
    "df_2019['year'] = 5\n",
    "df_2020['year'] = 6\n",
    "df_2021['year'] = 7\n",
    "\n",
    "\n",
    "\n",
    "df_combined = pd.concat([df_2016,df_2017,df_2018,df_2019,df_2020,df_2021], ignore_index=True)\n",
    "excel_file_path_combined = 'combined_data.xlsx'\n",
    "\n",
    "# Save the combined DataFrame to Excel\n",
    "# df_combined.to_excel(excel_file_path_combined, index=False)\n",
    "\n",
    "# Save the combined DataFrame to CSV\n",
    "csv_file_path_combined = 'combined_data.csv'\n",
    "df_combined.to_csv(csv_file_path_combined, index=False)\n",
    "\n",
    "print(f\"Combined DataFrame has been saved to {csv_file_path_combined}\")\n",
    "\n",
    "print(df_combined.columns)\n",
    "\n",
    "clean_df=df_combined.drop([\"Institute Id\",\"Institute Name\",\"City\",\"State\",\"Score\"],axis=True)\n",
    "clean_df.sample(6)"
   ]
  },
  {
   "cell_type": "code",
   "execution_count": 29,
   "id": "5970e4e8",
   "metadata": {},
   "outputs": [
    {
     "name": "stdout",
     "output_type": "stream",
     "text": [
      "Shape of X =  (900, 6)\n",
      "Shape of y =  (900,)\n",
      "Shape of X_train =  (720, 6)\n",
      "Shape of y_train =  (720,)\n",
      "Shape of X_test =  (180, 6)\n",
      "Shape of y_test =  (180,)\n"
     ]
    },
    {
     "name": "stdout",
     "output_type": "stream",
     "text": [
      "       TLR    RPC     GO     OI  Perception  year\n",
      "152  61.17  18.43  59.99  58.30       10.17     3\n",
      "411  61.36   2.75  54.70  48.52        0.00     5\n",
      "364  54.81  14.26  61.96  55.76       18.19     5\n",
      "327  63.47  28.22  77.01  61.09       36.71     5\n",
      "597  45.32  22.62  60.94  45.84        5.69     6\n",
      "..     ...    ...    ...    ...         ...   ...\n",
      "528  65.95  47.65  65.69  54.82       17.42     6\n",
      "709  73.15  50.17  78.62  64.54       50.18     7\n",
      "736  70.69  43.21  62.04  57.79       15.86     7\n",
      "485  40.58   1.26  61.61  57.60        1.63     5\n",
      "57   73.56  51.98  75.30  38.57       33.00     2\n",
      "\n",
      "[720 rows x 6 columns]\n"
     ]
    }
   ],
   "source": [
    "\n",
    "\n",
    "\n",
    "X = clean_df.drop('Rank', axis=1)\n",
    "y = clean_df['Rank']\n",
    "\n",
    "print('Shape of X = ', X.shape)\n",
    "print('Shape of y = ', y.shape)\n",
    "\n",
    "\n",
    "from sklearn.model_selection import train_test_split\n",
    "X_train, X_test, y_train, y_test = train_test_split(X, y, test_size=0.2, random_state=51)\n",
    "\n",
    "print('Shape of X_train = ', X_train.shape)\n",
    "print('Shape of y_train = ', y_train.shape)\n",
    "print('Shape of X_test = ', X_test.shape)\n",
    "print('Shape of y_test = ', y_test.shape)\n",
    "\n",
    "\n",
    "model_combined = RandomForestRegressor(n_estimators=100, random_state=42)\n",
    "model_combined.fit(X_train, y_train)\n",
    "# Assuming X_test and y_test are your test data\n",
    "print(X_train)\n"
   ]
  },
  {
   "cell_type": "code",
   "execution_count": 30,
   "id": "9fc776f9",
   "metadata": {},
   "outputs": [
    {
     "name": "stdout",
     "output_type": "stream",
     "text": [
      "Combined Data Mean Absolute Error: 9.624222222222222\n",
      "Combined Data Mean Squared Error: 169.33983444444445\n",
      "Combined Data R-squared: 0.9443486819241216\n"
     ]
    }
   ],
   "source": [
    "predictions_combined = model_combined.predict(X_test)\n",
    "\n",
    "from sklearn.metrics import mean_squared_error,mean_absolute_error,r2_score\n",
    "\n",
    "mae_combined = mean_absolute_error(y_test, predictions_combined)\n",
    "mse_combined = mean_squared_error(y_test, predictions_combined)\n",
    "r2_combined = r2_score(y_test, predictions_combined)\n",
    "\n",
    "print(f'Combined Data Mean Absolute Error: {mae_combined}')\n",
    "print(f'Combined Data Mean Squared Error: {mse_combined}')\n",
    "print(f'Combined Data R-squared: {r2_combined}')"
   ]
  },
  {
   "cell_type": "code",
   "execution_count": 32,
   "id": "fcc540b4",
   "metadata": {},
   "outputs": [],
   "source": [
    "import joblib\n",
    "joblib.dump(model_combined, \"college_rank_predictor1.pkl\")\n",
    "model = joblib.load(\"college_rank_predictor1.pkl\")\n"
   ]
  },
  {
   "cell_type": "code",
   "execution_count": 33,
   "id": "d15ee2ff",
   "metadata": {},
   "outputs": [
    {
     "name": "stdout",
     "output_type": "stream",
     "text": [
      "RPC: 0.5536578536572879\n",
      "TLR: 0.1669009220544416\n",
      "Perception: 0.12090170355227531\n",
      "GO: 0.0792798732701918\n",
      "year: 0.051763868745086504\n",
      "OI: 0.02749577872071692\n"
     ]
    }
   ],
   "source": [
    "feature_importances_combined = model_combined.feature_importances_\n",
    "feature_names_combined = X.columns\n",
    "\n",
    "# Combine feature names with their importance scores\n",
    "feature_importance_combined = dict(zip(feature_names_combined, feature_importances_combined))\n",
    "\n",
    "# Sort features based on importance\n",
    "sorted_feature_importance_combined = sorted(feature_importance_combined.items(), key=lambda x: x[1], reverse=True)\n",
    "\n",
    "# Print the sorted feature importance for the combined data\n",
    "for feature, importance in sorted_feature_importance_combined:\n",
    "    print(f'{feature}: {importance}')"
   ]
  },
  {
   "cell_type": "code",
   "execution_count": 38,
   "id": "6b8fb625",
   "metadata": {},
   "outputs": [
    {
     "name": "stdout",
     "output_type": "stream",
     "text": [
      "Please enter the features of your college:\n"
     ]
    },
    {
     "data": {
      "image/png": "[encoded data removed]",
      "text/plain": [
       "<Figure size 1200x600 with 1 Axes>"
      ]
     },
     "metadata": {},
     "output_type": "display_data"
    }
   ],
   "source": [
    "import pandas as pd\n",
    "import matplotlib.pyplot as plt\n",
    "\n",
    "# Sample data (replace this with your actual data)\n",
    "# Features of the top-ranked college\n",
    "top_college_features = {\n",
    "    'tlr': 90,\n",
    "    'rpc': 85,\n",
    "    'go': 95,\n",
    "    'oi': 80,\n",
    "    'perception': 92\n",
    "}\n",
    "\n",
    "# Function to get user input for their college's features\n",
    "def get_user_features():\n",
    "    user_features = {}\n",
    "    print(\"Please enter the features of your college:\")\n",
    "    for feature in top_college_features.keys():\n",
    "        value = float(input(f\"Enter value for {feature}: \"))\n",
    "        user_features[feature] = value\n",
    "    return user_features\n",
    "\n",
    "# Function to predict rank based on features\n",
    "def predict_rank(features):\n",
    "    # Your code to predict rank using ML model based on provided features\n",
    "    # Replace this with your actual prediction code\n",
    "    predicted_rank = 5  # Example prediction\n",
    "    return predicted_rank\n",
    "\n",
    "# Get user features\n",
    "user_features = get_user_features()\n",
    "\n",
    "# Predict rank\n",
    "predicted_rank = predict_rank(user_features)\n",
    "\n",
    "# Calculate differences in features\n",
    "differences = {feature: user_features[feature] - top_college_features[feature] for feature in top_college_features}\n",
    "\n",
    "# Convert data to DataFrame for plotting\n",
    "df = pd.DataFrame({'Top College': top_college_features, 'Your College': user_features, 'Differences': differences})\n",
    "\n",
    "# Plotting\n",
    "fig, ax = plt.subplots(figsize=(12, 6))\n",
    "\n",
    "# Plotting feature values and differences\n",
    "df[['Top College', 'Your College']].plot(kind='bar', ax=ax, color=['blue', 'orange'], width=0.4)\n",
    "df['Differences'].plot(kind='bar', ax=ax, color='red', alpha=0.5, width=0.2)\n",
    "ax.set_ylabel('Feature Values / Differences')\n",
    "ax.set_title('Comparison of Feature Values with Top-Ranked College')\n",
    "\n",
    "# Annotate predicted rank\n",
    "ax.annotate(f'Predicted Rank: {predicted_rank}', xy=(0.5, 0), xytext=(0, -40),\n",
    "            xycoords='axes fraction', textcoords='offset points', ha='center', va='top',\n",
    "            fontsize=12, color='red', bbox=dict(boxstyle='round,pad=0.5', fc='yellow', alpha=0.5))\n",
    "\n",
    "plt.xticks(rotation=45)  # Rotate x-axis labels for better readability\n",
    "plt.grid(True)\n",
    "plt.legend(['Top College', 'Your College', 'Differences'])\n",
    "plt.show()\n"
   ]
  }
 ],
 "metadata": {
  "kernelspec": {
   "display_name": "Python 3 (ipykernel)",
   "language": "python",
   "name": "python3"
  },
  "language_info": {
   "codemirror_mode": {
    "name": "ipython",
    "version": 3
   },
   "file_extension": ".py",
   "mimetype": "text/x-python",
   "name": "python",
   "nbconvert_exporter": "python",
   "pygments_lexer": "ipython3",
   "version": "3.11.8"
  }
 },
 "nbformat": 4,
 "nbformat_minor": 5
}
